{
 "cells": [
  {
   "cell_type": "markdown",
   "metadata": {},
   "source": [
    "# Imports"
   ]
  },
  {
   "cell_type": "code",
   "execution_count": null,
   "metadata": {},
   "outputs": [],
   "source": [
    "import numpy as np\n",
    "import pandas as pd\n",
    "import panel as pn\n",
    "import bokeh as bk"
   ]
  },
  {
   "cell_type": "code",
   "execution_count": null,
   "metadata": {},
   "outputs": [],
   "source": [
    "pn.extension() # required for panel to work in notebook, https://panel.holoviz.org/getting_started/core_concepts.html#notebook"
   ]
  },
  {
   "cell_type": "markdown",
   "metadata": {},
   "source": [
    "# Static Figure\n",
    "\n",
    "Source: [Bokeh Documentation: Positioning the Toolbar](https://docs.bokeh.org/en/latest/docs/user_guide/interaction/tools.html#positioning-the-toolbar)"
   ]
  },
  {
   "cell_type": "code",
   "execution_count": null,
   "metadata": {},
   "outputs": [],
   "source": [
    "p = bk.plotting.figure(\n",
    "    width=400, height=400,\n",
    "    title=None, toolbar_location=\"below\"\n",
    ")\n",
    "\n",
    "p.circle([1, 2, 3, 4, 5], [2, 5, 8, 2, 7], size=10)\n",
    "\n",
    "bokeh_pane = pn.pane.Bokeh(p, theme=\"dark_minimal\")\n",
    "bokeh_pane.servable()\n",
    "bokeh_pane"
   ]
  },
  {
   "cell_type": "markdown",
   "metadata": {},
   "source": [
    "Run from the command line:\n",
    "\n",
    "```bash\n",
    "panel convert test_bokeh_static.ipynb --to pyodide-worker --out pyodide\n",
    "python3 -m http.server & open http://localhost:8000/pyodide/test_bokeh_static.html\n",
    "```"
   ]
  }
 ],
 "metadata": {
  "kernelspec": {
   "display_name": "dev_dashboard",
   "language": "python",
   "name": "python3"
  },
  "language_info": {
   "codemirror_mode": {
    "name": "ipython",
    "version": 3
   },
   "file_extension": ".py",
   "mimetype": "text/x-python",
   "name": "python",
   "nbconvert_exporter": "python",
   "pygments_lexer": "ipython3",
   "version": "3.11.5"
  },
  "orig_nbformat": 4
 },
 "nbformat": 4,
 "nbformat_minor": 2
}
