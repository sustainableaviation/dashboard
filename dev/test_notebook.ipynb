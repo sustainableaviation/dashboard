{
 "cells": [
  {
   "cell_type": "code",
   "execution_count": 7,
   "metadata": {},
   "outputs": [],
   "source": [
    "import numpy as np\n",
    "import pandas as pd\n",
    "import panel as pn\n",
    "import bokeh as bk"
   ]
  },
  {
   "cell_type": "code",
   "execution_count": 14,
   "metadata": {},
   "outputs": [],
   "source": [
    "%%capture\n",
    "pn.extension() # required for panel to work in notebook, https://panel.holoviz.org/getting_started/core_concepts.html#notebook"
   ]
  },
  {
   "cell_type": "markdown",
   "metadata": {},
   "source": [
    "Source: [Bokeh Documentation: Stats/Histogram](https://docs.bokeh.org/en/latest/docs/user_guide/topics/stats.html#histogram) \\\n",
    "See also: [Panel Documentation: Bokeh](https://panel.holoviz.org/reference/panes/Bokeh.html)"
   ]
  },
  {
   "cell_type": "code",
   "execution_count": 11,
   "metadata": {},
   "outputs": [
    {
     "data": {
      "application/vnd.jupyter.widget-view+json": {
       "model_id": "934ce1968ac84134be61c095d86b467d",
       "version_major": 2,
       "version_minor": 0
      },
      "text/plain": [
       "BokehModel(combine_events=True, render_bundle={'docs_json': {'db899377-4d76-4cff-98c2-8d2af009a791': {'version…"
      ]
     },
     "execution_count": 11,
     "metadata": {},
     "output_type": "execute_result"
    }
   ],
   "source": [
    "rng = np.random.default_rng()\n",
    "x = rng.normal(loc=0, scale=1, size=1000)\n",
    "\n",
    "p = bk.plotting.figure(width=670, height=400, toolbar_location=None,\n",
    "           title=\"Normal (Gaussian) Distribution\")\n",
    "\n",
    "# Histogram\n",
    "bins = np.linspace(-3, 3, 40)\n",
    "hist, edges = np.histogram(x, density=True, bins=bins)\n",
    "p.quad(top=hist, bottom=0, left=edges[:-1], right=edges[1:],\n",
    "         fill_color=\"skyblue\", line_color=\"white\",\n",
    "         legend_label=\"1000 random samples\")\n",
    "\n",
    "# Probability density function\n",
    "x = np.linspace(-3.0, 3.0, 100)\n",
    "pdf = np.exp(-0.5*x**2) / np.sqrt(2.0*np.pi)\n",
    "p.line(x, pdf, line_width=2, line_color=\"navy\",\n",
    "       legend_label=\"Probability Density Function\")\n",
    "\n",
    "p.y_range.start = 0\n",
    "p.xaxis.axis_label = \"x\"\n",
    "p.yaxis.axis_label = \"PDF(x)\"\n",
    "\n",
    "bokeh_pane = pn.pane.Bokeh(p, theme=\"dark_minimal\")\n",
    "bokeh_pane"
   ]
  }
 ],
 "metadata": {
  "kernelspec": {
   "display_name": "dev_dashboard",
   "language": "python",
   "name": "python3"
  },
  "language_info": {
   "codemirror_mode": {
    "name": "ipython",
    "version": 3
   },
   "file_extension": ".py",
   "mimetype": "text/x-python",
   "name": "python",
   "nbconvert_exporter": "python",
   "pygments_lexer": "ipython3",
   "version": "3.11.5"
  },
  "orig_nbformat": 4
 },
 "nbformat": 4,
 "nbformat_minor": 2
}
